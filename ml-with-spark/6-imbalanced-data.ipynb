{
 "cells": [
  {
   "cell_type": "markdown",
   "id": "9c2b3fd1",
   "metadata": {},
   "source": [
    "# Chapter 6\n",
    "\n",
    "## Handling imbalanced data"
   ]
  },
  {
   "cell_type": "code",
   "execution_count": 29,
   "id": "toxic-maldives",
   "metadata": {},
   "outputs": [],
   "source": [
    "from pyspark.sql import SparkSession \n",
    "\n",
    "spark = SparkSession.builder \\\n",
    "    .master('local[*]') \\\n",
    "    .appName(\"Intro\") \\\n",
    "    .getOrCreate()"
   ]
  },
  {
   "cell_type": "code",
   "execution_count": 30,
   "id": "extra-quebec",
   "metadata": {},
   "outputs": [],
   "source": [
    "df = spark.createDataFrame(\n",
    "    [\n",
    "        (0, \"Hi I think pyspark is cool \",\"happy\"),\n",
    "        (1, \"All I want is a pyspark cluster\",\"indifferent\"),\n",
    "        (2, \"I finally understand how ML works\",\"fulfill\"),\n",
    "        (3, \"Yet another sentence about pyspark and ML\",\"indifferent\"),\n",
    "        (4, \"Why didn't I know about mllib before\",\"sad\"),\n",
    "        (5, \"Yes, I can\",\"happy\")\n",
    "    ], \n",
    "    [\"id\", \"sentence\", \"sentiment\"]\n",
    ")"
   ]
  },
  {
   "cell_type": "markdown",
   "id": "correct-bailey",
   "metadata": {},
   "source": [
    "# Start Featurization process"
   ]
  },
  {
   "cell_type": "markdown",
   "id": "coordinated-badge",
   "metadata": {},
   "source": [
    "# Leverage algo to target Imbalanced Data: \n",
    "Similar featurization process as before, only now we have one label for every data entry"
   ]
  },
  {
   "cell_type": "code",
   "execution_count": 31,
   "id": "hollywood-calibration",
   "metadata": {},
   "outputs": [
    {
     "name": "stderr",
     "output_type": "stream",
     "text": [
      "25/10/13 17:02:05 WARN StopWordsRemover: Default locale set was [en_GT]; however, it was not found in available locales in JVM, falling back to en_US locale. Set param `locale` in order to respect another locale.\n"
     ]
    },
    {
     "name": "stdout",
     "output_type": "stream",
     "text": [
      "+---+--------------------+-----------+--------------------+--------------------+\n",
      "| id|            sentence|  sentiment|               words|         clean_words|\n",
      "+---+--------------------+-----------+--------------------+--------------------+\n",
      "|  0|Hi I think pyspar...|      happy|[hi, i, think, py...|[hi, think, pyspa...|\n",
      "|  1|All I want is a p...|indifferent|[all, i, want, is...|[want, pyspark, c...|\n",
      "|  2|I finally underst...|    fulfill|[i, finally, unde...|[finally, underst...|\n",
      "|  3|Yet another sente...|indifferent|[yet, another, se...|[yet, another, se...|\n",
      "|  4|Why didn't I know...|        sad|[why, didn't, i, ...|       [know, mllib]|\n",
      "|  5|          Yes, I can|      happy|      [yes,, i, can]|              [yes,]|\n",
      "+---+--------------------+-----------+--------------------+--------------------+\n",
      "\n"
     ]
    }
   ],
   "source": [
    "from pyspark.ml.feature import StopWordsRemover, Tokenizer\n",
    "\n",
    "tokenizer = Tokenizer(inputCol=\"sentence\", outputCol=\"words\")\n",
    "remover = StopWordsRemover(inputCol=\"words\", outputCol=\"clean_words\")\n",
    "\n",
    "df = remover.transform(tokenizer.transform(df))\n",
    "\n",
    "df.show()"
   ]
  },
  {
   "cell_type": "code",
   "execution_count": 32,
   "id": "maritime-astrology",
   "metadata": {},
   "outputs": [
    {
     "name": "stdout",
     "output_type": "stream",
     "text": [
      "+---+-----------------------------------------+-----------+-------------------------------------------------+-------------------------------------+---------------------------------------------------------------------+\n",
      "|id |sentence                                 |sentiment  |words                                            |clean_words                          |ngrams                                                               |\n",
      "+---+-----------------------------------------+-----------+-------------------------------------------------+-------------------------------------+---------------------------------------------------------------------+\n",
      "|0  |Hi I think pyspark is cool               |happy      |[hi, i, think, pyspark, is, cool]                |[hi, think, pyspark, cool]           |[hi think pyspark, think pyspark cool]                               |\n",
      "|1  |All I want is a pyspark cluster          |indifferent|[all, i, want, is, a, pyspark, cluster]          |[want, pyspark, cluster]             |[want pyspark cluster]                                               |\n",
      "|2  |I finally understand how ML works        |fulfill    |[i, finally, understand, how, ml, works]         |[finally, understand, ml, works]     |[finally understand ml, understand ml works]                         |\n",
      "|3  |Yet another sentence about pyspark and ML|indifferent|[yet, another, sentence, about, pyspark, and, ml]|[yet, another, sentence, pyspark, ml]|[yet another sentence, another sentence pyspark, sentence pyspark ml]|\n",
      "|4  |Why didn't I know about mllib before     |sad        |[why, didn't, i, know, about, mllib, before]     |[know, mllib]                        |[]                                                                   |\n",
      "+---+-----------------------------------------+-----------+-------------------------------------------------+-------------------------------------+---------------------------------------------------------------------+\n",
      "only showing top 5 rows\n"
     ]
    }
   ],
   "source": [
    "from pyspark.ml.feature import NGram\n",
    "\n",
    "ngram = NGram(n=3, inputCol=\"clean_words\", outputCol=\"ngrams\")\n",
    "\n",
    "test = ngram.transform(df)\n",
    "test.show(5,truncate=False)"
   ]
  },
  {
   "cell_type": "code",
   "execution_count": 33,
   "id": "467204e7",
   "metadata": {},
   "outputs": [],
   "source": [
    "df = test"
   ]
  },
  {
   "cell_type": "code",
   "execution_count": 34,
   "id": "median-paper",
   "metadata": {},
   "outputs": [
    {
     "name": "stdout",
     "output_type": "stream",
     "text": [
      "+-----------------------------------------+-----+\n",
      "|features                                 |label|\n",
      "+-----------------------------------------+-----+\n",
      "|(65536,[16887,26010],[0.0,0.0])          |0.0  |\n",
      "|(65536,[57587],[0.0])                    |1.0  |\n",
      "|(65536,[34782,39758],[0.0,0.0])          |2.0  |\n",
      "|(65536,[11730,34744,49304],[0.0,0.0,0.0])|1.0  |\n",
      "|(65536,[],[])                            |3.0  |\n",
      "+-----------------------------------------+-----+\n",
      "only showing top 5 rows\n"
     ]
    },
    {
     "name": "stderr",
     "output_type": "stream",
     "text": [
      "25/10/13 17:02:06 WARN DAGScheduler: Broadcasting large task binary with size 1079.9 KiB\n",
      "25/10/13 17:02:06 WARN DAGScheduler: Broadcasting large task binary with size 1079.9 KiB\n",
      "25/10/13 17:02:07 WARN DAGScheduler: Broadcasting large task binary with size 1079.9 KiB\n"
     ]
    }
   ],
   "source": [
    "from pyspark.ml.feature import StringIndexer\n",
    "from pyspark.ml.feature import HashingTF, IDF\n",
    "from pyspark.ml import Pipeline\n",
    "\n",
    "hashtf = HashingTF(numFeatures=2**16, inputCol=\"ngrams\", outputCol='tf')\n",
    "idf = IDF(inputCol='tf', outputCol=\"features\", minDocFreq=2) # minDocFreq: remove sparse terms\n",
    "label_stringIdx = StringIndexer(inputCol = \"sentiment\", outputCol = \"label\")\n",
    "\n",
    "pipeline = Pipeline(stages=[hashtf, idf, label_stringIdx])\n",
    "\n",
    "pipelineFit = pipeline.fit(test)\n",
    "train_df = pipelineFit.transform(test)\n",
    "\n",
    "train_df.select(\"features\",\"label\").show(5,truncate=False)"
   ]
  },
  {
   "cell_type": "markdown",
   "id": "located-access",
   "metadata": {},
   "source": [
    "# Using GBTClassifier with specifiying strategy"
   ]
  },
  {
   "cell_type": "code",
   "execution_count": 35,
   "id": "detailed-accessory",
   "metadata": {},
   "outputs": [
    {
     "name": "stderr",
     "output_type": "stream",
     "text": [
      "25/10/13 17:02:07 WARN DAGScheduler: Broadcasting large task binary with size 1107.7 KiB\n",
      "25/10/13 17:02:07 WARN DAGScheduler: Broadcasting large task binary with size 1107.7 KiB\n",
      "25/10/13 17:02:07 WARN DAGScheduler: Broadcasting large task binary with size 1107.6 KiB\n",
      "25/10/13 17:02:07 WARN DecisionTreeMetadata: DecisionTree reducing maxBins from 32 to 6 (= number of training instances)\n",
      "25/10/13 17:02:07 WARN DAGScheduler: Broadcasting large task binary with size 1751.7 KiB\n",
      "25/10/13 17:02:07 WARN DAGScheduler: Broadcasting large task binary with size 2.2 MiB\n",
      "25/10/13 17:02:07 WARN DecisionTreeMetadata: DecisionTree reducing maxBins from 32 to 6 (= number of training instances)\n",
      "25/10/13 17:02:07 WARN DAGScheduler: Broadcasting large task binary with size 1751.7 KiB\n",
      "25/10/13 17:02:07 WARN DAGScheduler: Broadcasting large task binary with size 2.2 MiB\n"
     ]
    }
   ],
   "source": [
    "from pyspark.ml.classification import RandomForestClassifier\n",
    "\n",
    "rf = RandomForestClassifier(labelCol=\"label\", featuresCol=\"features\", featureSubsetStrategy=\"log2\")\n",
    "model = rf.fit(train_df)"
   ]
  },
  {
   "cell_type": "code",
   "execution_count": 36,
   "id": "metallic-sterling",
   "metadata": {},
   "outputs": [
    {
     "data": {
      "text/plain": [
       "DataFrame[id: bigint, sentence: string, sentiment: string, words: array<string>, clean_words: array<string>, ngrams: array<string>, tf: vector, features: vector, label: double, rawPrediction: vector, probability: vector, prediction: double]"
      ]
     },
     "execution_count": 36,
     "metadata": {},
     "output_type": "execute_result"
    }
   ],
   "source": [
    "# Make predictions.\n",
    "predictions = model.transform(train_df)\n",
    "\n",
    "# Select example rows to display.\n",
    "predictions"
   ]
  },
  {
   "cell_type": "code",
   "execution_count": 37,
   "id": "dressed-barrel",
   "metadata": {},
   "outputs": [
    {
     "name": "stdout",
     "output_type": "stream",
     "text": [
      "root\n",
      " |-- id: long (nullable = true)\n",
      " |-- sentence: string (nullable = true)\n",
      " |-- sentiment: string (nullable = true)\n",
      " |-- words: array (nullable = true)\n",
      " |    |-- element: string (containsNull = true)\n",
      " |-- clean_words: array (nullable = true)\n",
      " |    |-- element: string (containsNull = true)\n",
      " |-- ngrams: array (nullable = true)\n",
      " |    |-- element: string (containsNull = true)\n",
      " |-- tf: vector (nullable = true)\n",
      " |-- features: vector (nullable = true)\n",
      " |-- label: double (nullable = false)\n",
      " |-- rawPrediction: vector (nullable = true)\n",
      " |-- probability: vector (nullable = true)\n",
      " |-- prediction: double (nullable = false)\n",
      "\n"
     ]
    }
   ],
   "source": [
    "predictions.printSchema()"
   ]
  },
  {
   "cell_type": "code",
   "execution_count": 38,
   "id": "collect-sweet",
   "metadata": {},
   "outputs": [
    {
     "name": "stderr",
     "output_type": "stream",
     "text": [
      "25/10/13 17:02:07 WARN DAGScheduler: Broadcasting large task binary with size 1148.1 KiB\n",
      "25/10/13 17:02:08 WARN DAGScheduler: Broadcasting large task binary with size 1148.1 KiB\n",
      "25/10/13 17:02:08 WARN DAGScheduler: Broadcasting large task binary with size 1148.1 KiB\n"
     ]
    },
    {
     "name": "stdout",
     "output_type": "stream",
     "text": [
      "+--------------------+-----+--------------------+----------+\n",
      "|       rawPrediction|label|         probability|prediction|\n",
      "+--------------------+-----+--------------------+----------+\n",
      "|[7.06428571428571...|  0.0|[0.35321428571428...|       1.0|\n",
      "|[7.06428571428571...|  1.0|[0.35321428571428...|       1.0|\n",
      "|[7.06428571428571...|  2.0|[0.35321428571428...|       1.0|\n",
      "|[7.06428571428571...|  1.0|[0.35321428571428...|       1.0|\n",
      "|[7.06428571428571...|  3.0|[0.35321428571428...|       1.0|\n",
      "+--------------------+-----+--------------------+----------+\n",
      "only showing top 5 rows\n"
     ]
    }
   ],
   "source": [
    "predictions.select(\"rawPrediction\", \"label\", \"probability\", \"prediction\").show(5, truncate=True)"
   ]
  },
  {
   "cell_type": "code",
   "execution_count": null,
   "id": "educated-correction",
   "metadata": {},
   "outputs": [],
   "source": []
  }
 ],
 "metadata": {
  "kernelspec": {
   "display_name": "ml-with-spark-py3.12",
   "language": "python",
   "name": "python3"
  },
  "language_info": {
   "codemirror_mode": {
    "name": "ipython",
    "version": 3
   },
   "file_extension": ".py",
   "mimetype": "text/x-python",
   "name": "python",
   "nbconvert_exporter": "python",
   "pygments_lexer": "ipython3",
   "version": "3.12.9"
  }
 },
 "nbformat": 4,
 "nbformat_minor": 5
}
