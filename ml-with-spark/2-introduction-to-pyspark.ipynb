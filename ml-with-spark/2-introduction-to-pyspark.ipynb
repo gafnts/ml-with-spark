{
 "cells": [
  {
   "cell_type": "markdown",
   "id": "b12bad85",
   "metadata": {},
   "source": [
    "# Chapter 2\n",
    "\n",
    "## Introduction to Spark and PySpark"
   ]
  },
  {
   "cell_type": "code",
   "execution_count": 22,
   "id": "52208953",
   "metadata": {},
   "outputs": [],
   "source": [
    "from pyspark.sql import SparkSession\n",
    "\n",
    "\n",
    "spark = SparkSession.builder.master(\"local[*]\").appName(\"Intro\").getOrCreate()"
   ]
  },
  {
   "cell_type": "markdown",
   "id": "ba437ad7",
   "metadata": {},
   "source": [
    "### Importing a csv"
   ]
  },
  {
   "cell_type": "code",
   "execution_count": 6,
   "id": "26de447f",
   "metadata": {},
   "outputs": [],
   "source": [
    "df = spark.read.csv(\"static/zoo.csv\", header=True, inferSchema=True)"
   ]
  },
  {
   "cell_type": "code",
   "execution_count": 7,
   "id": "470bc534",
   "metadata": {},
   "outputs": [
    {
     "data": {
      "text/plain": [
       "pyspark.sql.classic.dataframe.DataFrame"
      ]
     },
     "execution_count": 7,
     "metadata": {},
     "output_type": "execute_result"
    }
   ],
   "source": [
    "type(df)"
   ]
  },
  {
   "cell_type": "code",
   "execution_count": 8,
   "id": "7f4115ca",
   "metadata": {},
   "outputs": [
    {
     "name": "stdout",
     "output_type": "stream",
     "text": [
      "root\n",
      " |-- animal_name: string (nullable = true)\n",
      " |-- hair: integer (nullable = true)\n",
      " |-- feathers: integer (nullable = true)\n",
      " |-- eggs: integer (nullable = true)\n",
      " |-- milk: integer (nullable = true)\n",
      " |-- airborne: integer (nullable = true)\n",
      " |-- aquatic: integer (nullable = true)\n",
      " |-- predator: integer (nullable = true)\n",
      " |-- toothed: integer (nullable = true)\n",
      " |-- backbone: integer (nullable = true)\n",
      " |-- breathes: integer (nullable = true)\n",
      " |-- venomous: integer (nullable = true)\n",
      " |-- fins: integer (nullable = true)\n",
      " |-- legs: integer (nullable = true)\n",
      " |-- tail: integer (nullable = true)\n",
      " |-- domestic: integer (nullable = true)\n",
      " |-- catsize: integer (nullable = true)\n",
      " |-- class_type: integer (nullable = true)\n",
      "\n"
     ]
    }
   ],
   "source": [
    "df.printSchema()"
   ]
  },
  {
   "cell_type": "code",
   "execution_count": 9,
   "id": "96a48cc8",
   "metadata": {},
   "outputs": [
    {
     "data": {
      "text/plain": [
       "[Row(animal_name='aardvark', hair=1, feathers=0, eggs=0, milk=1, airborne=0, aquatic=0, predator=1, toothed=1, backbone=1, breathes=1, venomous=0, fins=0, legs=4, tail=0, domestic=0, catsize=1, class_type=1),\n",
       " Row(animal_name='antelope', hair=1, feathers=0, eggs=0, milk=1, airborne=0, aquatic=0, predator=0, toothed=1, backbone=1, breathes=1, venomous=0, fins=0, legs=4, tail=1, domestic=0, catsize=1, class_type=1),\n",
       " Row(animal_name='bass', hair=0, feathers=0, eggs=1, milk=0, airborne=0, aquatic=1, predator=1, toothed=1, backbone=1, breathes=0, venomous=0, fins=1, legs=0, tail=1, domestic=0, catsize=0, class_type=4),\n",
       " Row(animal_name='bear', hair=1, feathers=0, eggs=0, milk=1, airborne=0, aquatic=0, predator=1, toothed=1, backbone=1, breathes=1, venomous=0, fins=0, legs=4, tail=0, domestic=0, catsize=1, class_type=1),\n",
       " Row(animal_name='boar', hair=1, feathers=0, eggs=0, milk=1, airborne=0, aquatic=0, predator=1, toothed=1, backbone=1, breathes=1, venomous=0, fins=0, legs=4, tail=1, domestic=0, catsize=1, class_type=1)]"
      ]
     },
     "execution_count": 9,
     "metadata": {},
     "output_type": "execute_result"
    }
   ],
   "source": [
    "df.head(5)"
   ]
  },
  {
   "cell_type": "code",
   "execution_count": 10,
   "id": "cf6a80dd",
   "metadata": {},
   "outputs": [
    {
     "name": "stdout",
     "output_type": "stream",
     "text": [
      "+-----------+----+--------+----+----+--------+-------+--------+-------+--------+--------+--------+----+----+----+--------+-------+----------+\n",
      "|animal_name|hair|feathers|eggs|milk|airborne|aquatic|predator|toothed|backbone|breathes|venomous|fins|legs|tail|domestic|catsize|class_type|\n",
      "+-----------+----+--------+----+----+--------+-------+--------+-------+--------+--------+--------+----+----+----+--------+-------+----------+\n",
      "|   aardvark|   1|       0|   0|   1|       0|      0|       1|      1|       1|       1|       0|   0|   4|   0|       0|      1|         1|\n",
      "|   antelope|   1|       0|   0|   1|       0|      0|       0|      1|       1|       1|       0|   0|   4|   1|       0|      1|         1|\n",
      "|       bass|   0|       0|   1|   0|       0|      1|       1|      1|       1|       0|       0|   1|   0|   1|       0|      0|         4|\n",
      "|       bear|   1|       0|   0|   1|       0|      0|       1|      1|       1|       1|       0|   0|   4|   0|       0|      1|         1|\n",
      "|       boar|   1|       0|   0|   1|       0|      0|       1|      1|       1|       1|       0|   0|   4|   1|       0|      1|         1|\n",
      "+-----------+----+--------+----+----+--------+-------+--------+-------+--------+--------+--------+----+----+----+--------+-------+----------+\n",
      "only showing top 5 rows\n"
     ]
    }
   ],
   "source": [
    "df.show(5)"
   ]
  },
  {
   "cell_type": "code",
   "execution_count": 11,
   "id": "a4835cb7",
   "metadata": {},
   "outputs": [
    {
     "data": {
      "text/html": [
       "<div>\n",
       "<style scoped>\n",
       "    .dataframe tbody tr th:only-of-type {\n",
       "        vertical-align: middle;\n",
       "    }\n",
       "\n",
       "    .dataframe tbody tr th {\n",
       "        vertical-align: top;\n",
       "    }\n",
       "\n",
       "    .dataframe thead th {\n",
       "        text-align: right;\n",
       "    }\n",
       "</style>\n",
       "<table border=\"1\" class=\"dataframe\">\n",
       "  <thead>\n",
       "    <tr style=\"text-align: right;\">\n",
       "      <th></th>\n",
       "      <th>animal_name</th>\n",
       "      <th>hair</th>\n",
       "      <th>feathers</th>\n",
       "      <th>eggs</th>\n",
       "      <th>milk</th>\n",
       "      <th>airborne</th>\n",
       "      <th>aquatic</th>\n",
       "      <th>predator</th>\n",
       "      <th>toothed</th>\n",
       "      <th>backbone</th>\n",
       "      <th>breathes</th>\n",
       "      <th>venomous</th>\n",
       "      <th>fins</th>\n",
       "      <th>legs</th>\n",
       "      <th>tail</th>\n",
       "      <th>domestic</th>\n",
       "      <th>catsize</th>\n",
       "      <th>class_type</th>\n",
       "    </tr>\n",
       "  </thead>\n",
       "  <tbody>\n",
       "    <tr>\n",
       "      <th>0</th>\n",
       "      <td>aardvark</td>\n",
       "      <td>1</td>\n",
       "      <td>0</td>\n",
       "      <td>0</td>\n",
       "      <td>1</td>\n",
       "      <td>0</td>\n",
       "      <td>0</td>\n",
       "      <td>1</td>\n",
       "      <td>1</td>\n",
       "      <td>1</td>\n",
       "      <td>1</td>\n",
       "      <td>0</td>\n",
       "      <td>0</td>\n",
       "      <td>4</td>\n",
       "      <td>0</td>\n",
       "      <td>0</td>\n",
       "      <td>1</td>\n",
       "      <td>1</td>\n",
       "    </tr>\n",
       "    <tr>\n",
       "      <th>1</th>\n",
       "      <td>antelope</td>\n",
       "      <td>1</td>\n",
       "      <td>0</td>\n",
       "      <td>0</td>\n",
       "      <td>1</td>\n",
       "      <td>0</td>\n",
       "      <td>0</td>\n",
       "      <td>0</td>\n",
       "      <td>1</td>\n",
       "      <td>1</td>\n",
       "      <td>1</td>\n",
       "      <td>0</td>\n",
       "      <td>0</td>\n",
       "      <td>4</td>\n",
       "      <td>1</td>\n",
       "      <td>0</td>\n",
       "      <td>1</td>\n",
       "      <td>1</td>\n",
       "    </tr>\n",
       "    <tr>\n",
       "      <th>2</th>\n",
       "      <td>bass</td>\n",
       "      <td>0</td>\n",
       "      <td>0</td>\n",
       "      <td>1</td>\n",
       "      <td>0</td>\n",
       "      <td>0</td>\n",
       "      <td>1</td>\n",
       "      <td>1</td>\n",
       "      <td>1</td>\n",
       "      <td>1</td>\n",
       "      <td>0</td>\n",
       "      <td>0</td>\n",
       "      <td>1</td>\n",
       "      <td>0</td>\n",
       "      <td>1</td>\n",
       "      <td>0</td>\n",
       "      <td>0</td>\n",
       "      <td>4</td>\n",
       "    </tr>\n",
       "    <tr>\n",
       "      <th>3</th>\n",
       "      <td>bear</td>\n",
       "      <td>1</td>\n",
       "      <td>0</td>\n",
       "      <td>0</td>\n",
       "      <td>1</td>\n",
       "      <td>0</td>\n",
       "      <td>0</td>\n",
       "      <td>1</td>\n",
       "      <td>1</td>\n",
       "      <td>1</td>\n",
       "      <td>1</td>\n",
       "      <td>0</td>\n",
       "      <td>0</td>\n",
       "      <td>4</td>\n",
       "      <td>0</td>\n",
       "      <td>0</td>\n",
       "      <td>1</td>\n",
       "      <td>1</td>\n",
       "    </tr>\n",
       "    <tr>\n",
       "      <th>4</th>\n",
       "      <td>boar</td>\n",
       "      <td>1</td>\n",
       "      <td>0</td>\n",
       "      <td>0</td>\n",
       "      <td>1</td>\n",
       "      <td>0</td>\n",
       "      <td>0</td>\n",
       "      <td>1</td>\n",
       "      <td>1</td>\n",
       "      <td>1</td>\n",
       "      <td>1</td>\n",
       "      <td>0</td>\n",
       "      <td>0</td>\n",
       "      <td>4</td>\n",
       "      <td>1</td>\n",
       "      <td>0</td>\n",
       "      <td>1</td>\n",
       "      <td>1</td>\n",
       "    </tr>\n",
       "  </tbody>\n",
       "</table>\n",
       "</div>"
      ],
      "text/plain": [
       "  animal_name  hair  feathers  eggs  milk  airborne  aquatic  predator  \\\n",
       "0    aardvark     1         0     0     1         0        0         1   \n",
       "1    antelope     1         0     0     1         0        0         0   \n",
       "2        bass     0         0     1     0         0        1         1   \n",
       "3        bear     1         0     0     1         0        0         1   \n",
       "4        boar     1         0     0     1         0        0         1   \n",
       "\n",
       "   toothed  backbone  breathes  venomous  fins  legs  tail  domestic  catsize  \\\n",
       "0        1         1         1         0     0     4     0         0        1   \n",
       "1        1         1         1         0     0     4     1         0        1   \n",
       "2        1         1         0         0     1     0     1         0        0   \n",
       "3        1         1         1         0     0     4     0         0        1   \n",
       "4        1         1         1         0     0     4     1         0        1   \n",
       "\n",
       "   class_type  \n",
       "0           1  \n",
       "1           1  \n",
       "2           4  \n",
       "3           1  \n",
       "4           1  "
      ]
     },
     "execution_count": 11,
     "metadata": {},
     "output_type": "execute_result"
    }
   ],
   "source": [
    "df.toPandas().head(5)"
   ]
  },
  {
   "cell_type": "markdown",
   "id": "a3fee393",
   "metadata": {},
   "source": [
    "### Creating a custom schema"
   ]
  },
  {
   "cell_type": "code",
   "execution_count": 12,
   "id": "7ae4d843",
   "metadata": {},
   "outputs": [
    {
     "name": "stdout",
     "output_type": "stream",
     "text": [
      "+-----------+----+--------+----+----+--------+-------+--------+-------+--------+--------+--------+----+----+----+--------+-------+----+\n",
      "|animal_name|hair|feathers|eggs|milk|airborne|aquatic|predator|toothed|backbone|breathes|venomous|fins|legs|tail|domestic|catsize|type|\n",
      "+-----------+----+--------+----+----+--------+-------+--------+-------+--------+--------+--------+----+----+----+--------+-------+----+\n",
      "|animal_name|NULL|    NULL|NULL|NULL|    NULL|   NULL|    NULL|   NULL|    NULL|    NULL|    NULL|NULL|NULL|NULL|    NULL|   NULL|NULL|\n",
      "|   aardvark|   1|       0|   0|   1|       0|      0|       1|      1|       1|       1|       0|   0|   4|   0|       0|      1|   1|\n",
      "|   antelope|   1|       0|   0|   1|       0|      0|       0|      1|       1|       1|       0|   0|   4|   1|       0|      1|   1|\n",
      "|       bass|   0|       0|   1|   0|       0|      1|       1|      1|       1|       0|       0|   1|   0|   1|       0|      0|   4|\n",
      "|       bear|   1|       0|   0|   1|       0|      0|       1|      1|       1|       1|       0|   0|   4|   0|       0|      1|   1|\n",
      "|       boar|   1|       0|   0|   1|       0|      0|       1|      1|       1|       1|       0|   0|   4|   1|       0|      1|   1|\n",
      "|    buffalo|   1|       0|   0|   1|       0|      0|       0|      1|       1|       1|       0|   0|   4|   1|       0|      1|   1|\n",
      "|       calf|   1|       0|   0|   1|       0|      0|       0|      1|       1|       1|       0|   0|   4|   1|       1|      1|   1|\n",
      "|       carp|   0|       0|   1|   0|       0|      1|       0|      1|       1|       0|       0|   1|   0|   1|       1|      0|   4|\n",
      "|    catfish|   0|       0|   1|   0|       0|      1|       1|      1|       1|       0|       0|   1|   0|   1|       0|      0|   4|\n",
      "|       cavy|   1|       0|   0|   1|       0|      0|       0|      1|       1|       1|       0|   0|   4|   0|       1|      0|   1|\n",
      "|    cheetah|   1|       0|   0|   1|       0|      0|       1|      1|       1|       1|       0|   0|   4|   1|       0|      1|   1|\n",
      "|    chicken|   0|       1|   1|   0|       1|      0|       0|      0|       1|       1|       0|   0|   2|   1|       1|      0|   2|\n",
      "|       chub|   0|       0|   1|   0|       0|      1|       1|      1|       1|       0|       0|   1|   0|   1|       0|      0|   4|\n",
      "|       clam|   0|       0|   1|   0|       0|      0|       1|      0|       0|       0|       0|   0|   0|   0|       0|      0|   7|\n",
      "|       crab|   0|       0|   1|   0|       0|      1|       1|      0|       0|       0|       0|   0|   4|   0|       0|      0|   7|\n",
      "|   crayfish|   0|       0|   1|   0|       0|      1|       1|      0|       0|       0|       0|   0|   6|   0|       0|      0|   7|\n",
      "|       crow|   0|       1|   1|   0|       1|      0|       1|      0|       1|       1|       0|   0|   2|   1|       0|      0|   2|\n",
      "|       deer|   1|       0|   0|   1|       0|      0|       0|      1|       1|       1|       0|   0|   4|   1|       0|      1|   1|\n",
      "|    dogfish|   0|       0|   1|   0|       0|      1|       1|      1|       1|       0|       0|   1|   0|   1|       0|      1|   4|\n",
      "+-----------+----+--------+----+----+--------+-------+--------+-------+--------+--------+--------+----+----+----+--------+-------+----+\n",
      "only showing top 20 rows\n"
     ]
    }
   ],
   "source": [
    "from pyspark.sql.types import StructType, StructField, StringType, IntegerType\n",
    "\n",
    "\n",
    "zoo_schema = StructType(\n",
    "    [\n",
    "        StructField(\"animal_name\", StringType(), True),\n",
    "        StructField(\"hair\", IntegerType(), True),\n",
    "        StructField(\"feathers\", IntegerType(), True),\n",
    "        StructField(\"eggs\", IntegerType(), True),\n",
    "        StructField(\"milk\", IntegerType(), True),\n",
    "        StructField(\"airborne\", IntegerType(), True),\n",
    "        StructField(\"aquatic\", IntegerType(), True),\n",
    "        StructField(\"predator\", IntegerType(), True),\n",
    "        StructField(\"toothed\", IntegerType(), True),\n",
    "        StructField(\"backbone\", IntegerType(), True),\n",
    "        StructField(\"breathes\", IntegerType(), True),\n",
    "        StructField(\"venomous\", IntegerType(), True),\n",
    "        StructField(\"fins\", IntegerType(), True),\n",
    "        StructField(\"legs\", IntegerType(), True),\n",
    "        StructField(\"tail\", IntegerType(), True),\n",
    "        StructField(\"domestic\", IntegerType(), True),\n",
    "        StructField(\"catsize\", IntegerType(), True),\n",
    "        StructField(\"type\", IntegerType(), True),\n",
    "    ]\n",
    ")\n",
    "\n",
    "\n",
    "df_with_schema = spark.read.format(\"csv\").schema(zoo_schema).load(\"static/zoo.csv\")\n",
    "\n",
    "\n",
    "df_with_schema.show()"
   ]
  },
  {
   "cell_type": "markdown",
   "id": "dab4e627",
   "metadata": {},
   "source": [
    "### Mind the schema"
   ]
  },
  {
   "cell_type": "code",
   "execution_count": null,
   "id": "e63d1824",
   "metadata": {},
   "outputs": [
    {
     "name": "stdout",
     "output_type": "stream",
     "text": [
      "{\n",
      "  \"fields\": [\n",
      "    {\n",
      "      \"metadata\": {},\n",
      "      \"name\": \"animal_name\",\n",
      "      \"nullable\": true,\n",
      "      \"type\": \"string\"\n",
      "    },\n",
      "    {\n",
      "      \"metadata\": {},\n",
      "      \"name\": \"hair\",\n",
      "      \"nullable\": true,\n",
      "      \"type\": \"integer\"\n",
      "    },\n",
      "    {\n",
      "      \"metadata\": {},\n",
      "      \"name\": \"feathers\",\n",
      "      \"nullable\": true,\n",
      "      \"type\": \"integer\"\n",
      "    },\n",
      "    {\n",
      "      \"metadata\": {},\n",
      "      \"name\": \"eggs\",\n",
      "      \"nullable\": true,\n",
      "      \"type\": \"integer\"\n",
      "    },\n",
      "    {\n",
      "      \"metadata\": {},\n",
      "      \"name\": \"milk\",\n",
      "      \"nullable\": true,\n",
      "      \"type\": \"integer\"\n",
      "    },\n",
      "    {\n",
      "      \"metadata\": {},\n",
      "      \"name\": \"airborne\",\n",
      "      \"nullable\": true,\n",
      "      \"type\": \"integer\"\n",
      "    },\n",
      "    {\n",
      "      \"metadata\": {},\n",
      "      \"name\": \"aquatic\",\n",
      "      \"nullable\": true,\n",
      "      \"type\": \"integer\"\n",
      "    },\n",
      "    {\n",
      "      \"metadata\": {},\n",
      "      \"name\": \"predator\",\n",
      "      \"nullable\": true,\n",
      "      \"type\": \"integer\"\n",
      "    },\n",
      "    {\n",
      "      \"metadata\": {},\n",
      "      \"name\": \"toothed\",\n",
      "      \"nullable\": true,\n",
      "      \"type\": \"integer\"\n",
      "    },\n",
      "    {\n",
      "      \"metadata\": {},\n",
      "      \"name\": \"backbone\",\n",
      "      \"nullable\": true,\n",
      "      \"type\": \"integer\"\n",
      "    },\n",
      "    {\n",
      "      \"metadata\": {},\n",
      "      \"name\": \"breathes\",\n",
      "      \"nullable\": true,\n",
      "      \"type\": \"integer\"\n",
      "    },\n",
      "    {\n",
      "      \"metadata\": {},\n",
      "      \"name\": \"venomous\",\n",
      "      \"nullable\": true,\n",
      "      \"type\": \"integer\"\n",
      "    },\n",
      "    {\n",
      "      \"metadata\": {},\n",
      "      \"name\": \"fins\",\n",
      "      \"nullable\": true,\n",
      "      \"type\": \"integer\"\n",
      "    },\n",
      "    {\n",
      "      \"metadata\": {},\n",
      "      \"name\": \"legs\",\n",
      "      \"nullable\": true,\n",
      "      \"type\": \"integer\"\n",
      "    },\n",
      "    {\n",
      "      \"metadata\": {},\n",
      "      \"name\": \"tail\",\n",
      "      \"nullable\": true,\n",
      "      \"type\": \"integer\"\n",
      "    },\n",
      "    {\n",
      "      \"metadata\": {},\n",
      "      \"name\": \"domestic\",\n",
      "      \"nullable\": true,\n",
      "      \"type\": \"integer\"\n",
      "    },\n",
      "    {\n",
      "      \"metadata\": {},\n",
      "      \"name\": \"catsize\",\n",
      "      \"nullable\": true,\n",
      "      \"type\": \"integer\"\n",
      "    },\n",
      "    {\n",
      "      \"metadata\": {},\n",
      "      \"name\": \"type\",\n",
      "      \"nullable\": true,\n",
      "      \"type\": \"integer\"\n",
      "    }\n",
      "  ],\n",
      "  \"type\": \"struct\"\n",
      "}\n"
     ]
    }
   ],
   "source": [
    "import json\n",
    "\n",
    "\n",
    "print(json.dumps(json.loads(df_with_schema.schema.json()), indent=2))"
   ]
  },
  {
   "cell_type": "code",
   "execution_count": 19,
   "id": "c12e6c34",
   "metadata": {},
   "outputs": [],
   "source": [
    "with open(\"static/schema.json\", \"w\") as file:\n",
    "    json.dump(json.loads(df_with_schema.schema.json()), file, indent=2)"
   ]
  },
  {
   "cell_type": "code",
   "execution_count": 27,
   "id": "05f870f9",
   "metadata": {},
   "outputs": [
    {
     "data": {
      "text/plain": [
       "StructType([StructField('animal_name', StringType(), True), StructField('hair', IntegerType(), True), StructField('feathers', IntegerType(), True), StructField('eggs', IntegerType(), True), StructField('milk', IntegerType(), True), StructField('airborne', IntegerType(), True), StructField('aquatic', IntegerType(), True), StructField('predator', IntegerType(), True), StructField('toothed', IntegerType(), True), StructField('backbone', IntegerType(), True), StructField('breathes', IntegerType(), True), StructField('venomous', IntegerType(), True), StructField('fins', IntegerType(), True), StructField('legs', IntegerType(), True), StructField('tail', IntegerType(), True), StructField('domestic', IntegerType(), True), StructField('catsize', IntegerType(), True), StructField('type', IntegerType(), True)])"
      ]
     },
     "execution_count": 27,
     "metadata": {},
     "output_type": "execute_result"
    }
   ],
   "source": [
    "with open(\"static/schema.json\", \"r\") as file:\n",
    "    schema = json.load(file)\n",
    "\n",
    "schema_from_json = StructType.fromJson(schema)\n",
    "\n",
    "schema_from_json"
   ]
  },
  {
   "cell_type": "code",
   "execution_count": null,
   "id": "6398a736",
   "metadata": {},
   "outputs": [],
   "source": []
  }
 ],
 "metadata": {
  "kernelspec": {
   "display_name": "ml-with-spark-py3.12",
   "language": "python",
   "name": "python3"
  },
  "language_info": {
   "codemirror_mode": {
    "name": "ipython",
    "version": 3
   },
   "file_extension": ".py",
   "mimetype": "text/x-python",
   "name": "python",
   "nbconvert_exporter": "python",
   "pygments_lexer": "ipython3",
   "version": "3.12.9"
  }
 },
 "nbformat": 4,
 "nbformat_minor": 5
}
