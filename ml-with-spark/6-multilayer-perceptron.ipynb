{
 "cells": [
  {
   "cell_type": "markdown",
   "id": "417315e1",
   "metadata": {},
   "source": [
    "# Chapter 6\n",
    "\n",
    "## Multilayer perceptron regressor"
   ]
  },
  {
   "cell_type": "code",
   "execution_count": 1,
   "id": "welsh-dublin",
   "metadata": {},
   "outputs": [
    {
     "name": "stderr",
     "output_type": "stream",
     "text": [
      "WARNING: Using incubator modules: jdk.incubator.vector\n",
      "Using Spark's default log4j profile: org/apache/spark/log4j2-defaults.properties\n",
      "25/10/14 18:29:33 WARN Utils: Your hostname, Gabriels-MacBook-Pro.local, resolves to a loopback address: 127.0.0.1; using 10.40.1.32 instead (on interface en0)\n",
      "25/10/14 18:29:33 WARN Utils: Set SPARK_LOCAL_IP if you need to bind to another address\n",
      "Using Spark's default log4j profile: org/apache/spark/log4j2-defaults.properties\n",
      "Setting default log level to \"WARN\".\n",
      "To adjust logging level use sc.setLogLevel(newLevel). For SparkR, use setLogLevel(newLevel).\n",
      "25/10/14 18:29:33 WARN NativeCodeLoader: Unable to load native-hadoop library for your platform... using builtin-java classes where applicable\n"
     ]
    }
   ],
   "source": [
    "from pyspark.sql import SparkSession \n",
    "\n",
    "spark = SparkSession.builder \\\n",
    "    .master('local[*]') \\\n",
    "    .appName(\"Intro\") \\\n",
    "    .getOrCreate()"
   ]
  },
  {
   "cell_type": "code",
   "execution_count": 2,
   "id": "approximate-logistics",
   "metadata": {},
   "outputs": [],
   "source": [
    "from pyspark.sql.types import StructField, StructType, StringType, DoubleType\n",
    "\n",
    "custom_schema = StructType([\n",
    "    StructField(\"Make\", StringType(), True),\n",
    "    StructField(\"Model\", StringType(), True),\n",
    "    StructField(\"Vehicle Class\", StringType(), True),\n",
    "    StructField(\"Cylinders\", DoubleType(), True),\n",
    "    StructField(\"Transmission\", StringType(), True),\n",
    "    StructField(\"Fuel Type\", StringType(), True),\n",
    "    StructField(\"Fuel Consumption City (L/100 km)\", DoubleType(), True),\n",
    "    StructField(\"Fuel Consumption Hwy (L/100 km)\", DoubleType(), True),\n",
    "    StructField(\"Fuel Consumption Comb (L/100 km)\", DoubleType(), True),\n",
    "    StructField(\"Fuel Consumption Comb (mpg)\", DoubleType(), True),\n",
    "    StructField(\"CO2\", DoubleType(), True)])"
   ]
  },
  {
   "cell_type": "code",
   "execution_count": 4,
   "id": "lucky-opposition",
   "metadata": {},
   "outputs": [],
   "source": [
    "co2_data = spark.read.format(\"csv\")\\\n",
    "    .schema(custom_schema) \\\n",
    "    .option(\"header\", True) \\\n",
    "    .load(\"./static/CO2_Emissions_Canada.csv\")"
   ]
  },
  {
   "cell_type": "code",
   "execution_count": 5,
   "id": "usual-aside",
   "metadata": {},
   "outputs": [
    {
     "name": "stderr",
     "output_type": "stream",
     "text": [
      "25/10/14 18:30:10 WARN CSVHeaderChecker: Number of column in CSV header is not equal to number of fields in the schema:\n",
      " Header length: 12, schema size: 11\n",
      "CSV file: file:///Users/gafnts/Documents/Github/ml-with-spark/ml-with-spark/static/CO2_Emissions_Canada.csv\n"
     ]
    },
    {
     "data": {
      "text/plain": [
       "[Row(Make='ACURA', Model='ILX', Vehicle Class='COMPACT', Cylinders=2.0, Transmission='4', Fuel Type='AS5', Fuel Consumption City (L/100 km)=None, Fuel Consumption Hwy (L/100 km)=9.9, Fuel Consumption Comb (L/100 km)=6.7, Fuel Consumption Comb (mpg)=8.5, CO2=33.0),\n",
       " Row(Make='ACURA', Model='ILX', Vehicle Class='COMPACT', Cylinders=2.4, Transmission='4', Fuel Type='M6', Fuel Consumption City (L/100 km)=None, Fuel Consumption Hwy (L/100 km)=11.2, Fuel Consumption Comb (L/100 km)=7.7, Fuel Consumption Comb (mpg)=9.6, CO2=29.0)]"
      ]
     },
     "execution_count": 5,
     "metadata": {},
     "output_type": "execute_result"
    }
   ],
   "source": [
    "co2_data.take(2)"
   ]
  },
  {
   "cell_type": "code",
   "execution_count": 6,
   "id": "bright-equivalent",
   "metadata": {},
   "outputs": [],
   "source": [
    "cols_only_continues_values = {'Fuel Consumption City (L/100 km)':0}"
   ]
  },
  {
   "cell_type": "code",
   "execution_count": 7,
   "id": "desperate-physiology",
   "metadata": {},
   "outputs": [],
   "source": [
    "co2_data = co2_data.fillna(0.0)"
   ]
  },
  {
   "cell_type": "code",
   "execution_count": 8,
   "id": "otherwise-bulletin",
   "metadata": {},
   "outputs": [
    {
     "name": "stdout",
     "output_type": "stream",
     "text": [
      "root\n",
      " |-- Make: string (nullable = true)\n",
      " |-- Model: string (nullable = true)\n",
      " |-- Vehicle Class: string (nullable = true)\n",
      " |-- Cylinders: double (nullable = false)\n",
      " |-- Transmission: string (nullable = true)\n",
      " |-- Fuel Type: string (nullable = true)\n",
      " |-- Fuel Consumption City (L/100 km): double (nullable = false)\n",
      " |-- Fuel Consumption Hwy (L/100 km): double (nullable = false)\n",
      " |-- Fuel Consumption Comb (L/100 km): double (nullable = false)\n",
      " |-- Fuel Consumption Comb (mpg): double (nullable = false)\n",
      " |-- CO2: double (nullable = false)\n",
      "\n"
     ]
    }
   ],
   "source": [
    "co2_data.printSchema()"
   ]
  },
  {
   "cell_type": "code",
   "execution_count": 9,
   "id": "logical-philadelphia",
   "metadata": {},
   "outputs": [
    {
     "name": "stderr",
     "output_type": "stream",
     "text": [
      "25/10/14 18:30:24 WARN CSVHeaderChecker: Number of column in CSV header is not equal to number of fields in the schema:\n",
      " Header length: 12, schema size: 11\n",
      "CSV file: file:///Users/gafnts/Documents/Github/ml-with-spark/ml-with-spark/static/CO2_Emissions_Canada.csv\n"
     ]
    },
    {
     "data": {
      "text/plain": [
       "[Row(Make='ACURA', Model='ILX', Vehicle Class='COMPACT', Cylinders=2.0, Transmission='4', Fuel Type='AS5', Fuel Consumption City (L/100 km)=0.0, Fuel Consumption Hwy (L/100 km)=9.9, Fuel Consumption Comb (L/100 km)=6.7, Fuel Consumption Comb (mpg)=8.5, CO2=33.0),\n",
       " Row(Make='ACURA', Model='ILX', Vehicle Class='COMPACT', Cylinders=2.4, Transmission='4', Fuel Type='M6', Fuel Consumption City (L/100 km)=0.0, Fuel Consumption Hwy (L/100 km)=11.2, Fuel Consumption Comb (L/100 km)=7.7, Fuel Consumption Comb (mpg)=9.6, CO2=29.0)]"
      ]
     },
     "execution_count": 9,
     "metadata": {},
     "output_type": "execute_result"
    }
   ],
   "source": [
    "co2_data.take(2)"
   ]
  },
  {
   "cell_type": "markdown",
   "id": "sexual-shuttle",
   "metadata": {},
   "source": [
    "# Prep the data for regression"
   ]
  },
  {
   "cell_type": "markdown",
   "id": "dynamic-reaction",
   "metadata": {},
   "source": [
    "turn the feature columns into one indexed column:"
   ]
  },
  {
   "cell_type": "code",
   "execution_count": 10,
   "id": "polyphonic-mouse",
   "metadata": {},
   "outputs": [],
   "source": [
    "from pyspark.ml.feature import FeatureHasher\n",
    "\n",
    "cols = [\"Make\", \"Model\", \"Vehicle Class\",\"Cylinders\",\"Transmission\",\"Fuel Type\",\n",
    "        \"Fuel Consumption City (L/100 km)\", \"Fuel Consumption Hwy (L/100 km)\",\n",
    "        \"Fuel Consumption Comb (L/100 km)\",\"Fuel Consumption Comb (mpg)\"]\n",
    "\n",
    "cols_only_continues = [\"Fuel Consumption City (L/100 km)\", \"Fuel Consumption Hwy (L/100 km)\",\n",
    "        \"Fuel Consumption Comb (L/100 km)\"]\n",
    "\n",
    "hasher = FeatureHasher(outputCol=\"hashed_features\", inputCols=cols_only_continues)\n",
    "co2_data = hasher.transform(co2_data)"
   ]
  },
  {
   "cell_type": "code",
   "execution_count": 11,
   "id": "indian-croatia",
   "metadata": {},
   "outputs": [
    {
     "name": "stdout",
     "output_type": "stream",
     "text": [
      "+---------------------------------------------+\n",
      "|hashed_features                              |\n",
      "+---------------------------------------------+\n",
      "|(262144,[38607,109231,228390],[0.0,9.9,6.7]) |\n",
      "|(262144,[38607,109231,228390],[0.0,11.2,7.7])|\n",
      "|(262144,[38607,109231,228390],[0.0,6.0,5.8]) |\n",
      "|(262144,[38607,109231,228390],[0.0,12.7,9.1])|\n",
      "|(262144,[38607,109231,228390],[0.0,12.1,8.7])|\n",
      "+---------------------------------------------+\n",
      "only showing top 5 rows\n"
     ]
    },
    {
     "name": "stderr",
     "output_type": "stream",
     "text": [
      "25/10/14 18:30:40 WARN CSVHeaderChecker: CSV header does not conform to the schema.\n",
      " Header: Fuel Type, Fuel Consumption City (L/100 km), Fuel Consumption Hwy (L/100 km)\n",
      " Schema: Fuel Consumption City (L/100 km), Fuel Consumption Hwy (L/100 km), Fuel Consumption Comb (L/100 km)\n",
      "Expected: Fuel Consumption City (L/100 km) but found: Fuel Type\n",
      "CSV file: file:///Users/gafnts/Documents/Github/ml-with-spark/ml-with-spark/static/CO2_Emissions_Canada.csv\n"
     ]
    }
   ],
   "source": [
    "co2_data.select(\"hashed_features\").show(5, truncate=False)"
   ]
  },
  {
   "cell_type": "code",
   "execution_count": 12,
   "id": "experienced-nudist",
   "metadata": {},
   "outputs": [
    {
     "name": "stderr",
     "output_type": "stream",
     "text": [
      "25/10/14 18:30:42 WARN CSVHeaderChecker: CSV header does not conform to the schema.\n",
      " Header: Fuel Type, Fuel Consumption City (L/100 km), Fuel Consumption Hwy (L/100 km)\n",
      " Schema: Fuel Consumption City (L/100 km), Fuel Consumption Hwy (L/100 km), Fuel Consumption Comb (L/100 km)\n",
      "Expected: Fuel Consumption City (L/100 km) but found: Fuel Type\n",
      "CSV file: file:///Users/gafnts/Documents/Github/ml-with-spark/ml-with-spark/static/CO2_Emissions_Canada.csv\n"
     ]
    },
    {
     "data": {
      "text/plain": [
       "[Row(hashed_features=SparseVector(262144, {38607: 0.0, 109231: 9.9, 228390: 6.7}))]"
      ]
     },
     "execution_count": 12,
     "metadata": {},
     "output_type": "execute_result"
    }
   ],
   "source": [
    "co2_data.select(\"hashed_features\").take(1)"
   ]
  },
  {
   "cell_type": "code",
   "execution_count": 13,
   "id": "beneficial-abortion",
   "metadata": {},
   "outputs": [
    {
     "name": "stdout",
     "output_type": "stream",
     "text": [
      "+---------------------------------------------+\n",
      "|hashed_features                              |\n",
      "+---------------------------------------------+\n",
      "|(262144,[38607,109231,228390],[0.0,9.9,6.7]) |\n",
      "|(262144,[38607,109231,228390],[0.0,11.2,7.7])|\n",
      "|(262144,[38607,109231,228390],[0.0,6.0,5.8]) |\n",
      "|(262144,[38607,109231,228390],[0.0,12.7,9.1])|\n",
      "|(262144,[38607,109231,228390],[0.0,12.1,8.7])|\n",
      "+---------------------------------------------+\n",
      "only showing top 5 rows\n"
     ]
    },
    {
     "name": "stderr",
     "output_type": "stream",
     "text": [
      "25/10/14 18:30:50 WARN CSVHeaderChecker: CSV header does not conform to the schema.\n",
      " Header: Fuel Type, Fuel Consumption City (L/100 km), Fuel Consumption Hwy (L/100 km)\n",
      " Schema: Fuel Consumption City (L/100 km), Fuel Consumption Hwy (L/100 km), Fuel Consumption Comb (L/100 km)\n",
      "Expected: Fuel Consumption City (L/100 km) but found: Fuel Type\n",
      "CSV file: file:///Users/gafnts/Documents/Github/ml-with-spark/ml-with-spark/static/CO2_Emissions_Canada.csv\n"
     ]
    }
   ],
   "source": [
    "co2_data.select(\"hashed_features\").show(5, truncate=False)"
   ]
  },
  {
   "cell_type": "code",
   "execution_count": 14,
   "id": "legal-destination",
   "metadata": {},
   "outputs": [
    {
     "name": "stdout",
     "output_type": "stream",
     "text": [
      "root\n",
      " |-- Make: string (nullable = true)\n",
      " |-- Model: string (nullable = true)\n",
      " |-- Vehicle Class: string (nullable = true)\n",
      " |-- Cylinders: double (nullable = false)\n",
      " |-- Transmission: string (nullable = true)\n",
      " |-- Fuel Type: string (nullable = true)\n",
      " |-- Fuel Consumption City (L/100 km): double (nullable = false)\n",
      " |-- Fuel Consumption Hwy (L/100 km): double (nullable = false)\n",
      " |-- Fuel Consumption Comb (L/100 km): double (nullable = false)\n",
      " |-- Fuel Consumption Comb (mpg): double (nullable = false)\n",
      " |-- CO2: double (nullable = false)\n",
      " |-- hashed_features: vector (nullable = true)\n",
      "\n"
     ]
    }
   ],
   "source": [
    "co2_data.printSchema()"
   ]
  },
  {
   "cell_type": "markdown",
   "id": "annoying-prevention",
   "metadata": {},
   "source": [
    "# Time for selecting the most meaningful features:"
   ]
  },
  {
   "cell_type": "code",
   "execution_count": 15,
   "id": "palestinian-tours",
   "metadata": {},
   "outputs": [
    {
     "name": "stderr",
     "output_type": "stream",
     "text": [
      "25/10/14 18:31:20 WARN CSVHeaderChecker: CSV header does not conform to the schema.\n",
      " Header: Fuel Type, Fuel Consumption City (L/100 km), Fuel Consumption Hwy (L/100 km), Fuel Consumption Comb (mpg)\n",
      " Schema: Fuel Consumption City (L/100 km), Fuel Consumption Hwy (L/100 km), Fuel Consumption Comb (L/100 km), CO2\n",
      "Expected: Fuel Consumption City (L/100 km) but found: Fuel Type\n",
      "CSV file: file:///Users/gafnts/Documents/Github/ml-with-spark/ml-with-spark/static/CO2_Emissions_Canada.csv\n",
      "25/10/14 18:31:20 WARN DAGScheduler: Broadcasting large task binary with size 2.0 MiB\n",
      "25/10/14 18:31:20 WARN CSVHeaderChecker: CSV header does not conform to the schema.\n",
      " Header: Fuel Type, Fuel Consumption City (L/100 km), Fuel Consumption Hwy (L/100 km), Fuel Consumption Comb (mpg)\n",
      " Schema: Fuel Consumption City (L/100 km), Fuel Consumption Hwy (L/100 km), Fuel Consumption Comb (L/100 km), CO2\n",
      "Expected: Fuel Consumption City (L/100 km) but found: Fuel Type\n",
      "CSV file: file:///Users/gafnts/Documents/Github/ml-with-spark/ml-with-spark/static/CO2_Emissions_Canada.csv\n",
      "25/10/14 18:31:42 WARN DAGScheduler: Broadcasting large task binary with size 2.0 MiB\n",
      "                                                                                \r"
     ]
    }
   ],
   "source": [
    "from pyspark.ml.feature import UnivariateFeatureSelector\n",
    "\n",
    "selector = UnivariateFeatureSelector(outputCol=\"selectedFeatures\", featuresCol=\"hashed_features\", labelCol=\"CO2\")\n",
    "\n",
    "selector.setFeatureType(\"continuous\")\n",
    "selector.setLabelType(\"continuous\")\n",
    "\n",
    "model = selector.fit(co2_data)\n",
    "output = model.transform(co2_data)"
   ]
  },
  {
   "cell_type": "code",
   "execution_count": 16,
   "id": "missing-sally",
   "metadata": {},
   "outputs": [
    {
     "name": "stdout",
     "output_type": "stream",
     "text": [
      "+-----------------------+\n",
      "|selectedFeatures       |\n",
      "+-----------------------+\n",
      "|(50,[48,49],[9.9,6.7]) |\n",
      "|(50,[48,49],[11.2,7.7])|\n",
      "|(50,[48,49],[6.0,5.8]) |\n",
      "|(50,[48,49],[12.7,9.1])|\n",
      "|(50,[48,49],[12.1,8.7])|\n",
      "+-----------------------+\n",
      "only showing top 5 rows\n"
     ]
    },
    {
     "name": "stderr",
     "output_type": "stream",
     "text": [
      "25/10/14 18:31:50 WARN CSVHeaderChecker: CSV header does not conform to the schema.\n",
      " Header: Fuel Type, Fuel Consumption City (L/100 km), Fuel Consumption Hwy (L/100 km)\n",
      " Schema: Fuel Consumption City (L/100 km), Fuel Consumption Hwy (L/100 km), Fuel Consumption Comb (L/100 km)\n",
      "Expected: Fuel Consumption City (L/100 km) but found: Fuel Type\n",
      "CSV file: file:///Users/gafnts/Documents/Github/ml-with-spark/ml-with-spark/static/CO2_Emissions_Canada.csv\n"
     ]
    }
   ],
   "source": [
    "output.select(\"selectedFeatures\").show(5, truncate=False)"
   ]
  },
  {
   "cell_type": "markdown",
   "id": "joined-advancement",
   "metadata": {},
   "source": [
    "Count the number of available classes as it is needed as part of the last layer for the multilayer perceptron classifier.\n",
    "\n",
    "Classifier trainer based on the Multilayer Perceptron. \n",
    "Each layer has sigmoid activation function, output layer has softmax. \n",
    "\n",
    "Number of inputs has to be equal to the size of feature vectors. \n",
    "\n",
    "Number of outputs has to be equal to the total number of labels.\n",
    "\n",
    "\n",
    "Specify the layers for the neural network as follows: \n",
    "\n",
    "input layer => size 50 (features), two intermediate layers (i.e. hidden layer) of size 20 and 8 and output => size 70 as the largest value of CO2 is 69 and lables array is searched by index (classes).      \n",
    "\n",
    "\n"
   ]
  },
  {
   "cell_type": "code",
   "execution_count": null,
   "id": "blind-cylinder",
   "metadata": {},
   "outputs": [
    {
     "name": "stderr",
     "output_type": "stream",
     "text": [
      "25/10/14 18:32:01 WARN SparkStringUtils: Truncated the string representation of a plan since it was too large. This behavior can be adjusted by setting 'spark.sql.debug.maxToStringFields'.\n",
      "25/10/14 18:32:02 WARN CSVHeaderChecker: CSV header does not conform to the schema.\n",
      " Header: Fuel Type, Fuel Consumption City (L/100 km), Fuel Consumption Hwy (L/100 km), Fuel Consumption Comb (mpg)\n",
      " Schema: Fuel Consumption City (L/100 km), Fuel Consumption Hwy (L/100 km), Fuel Consumption Comb (L/100 km), CO2\n",
      "Expected: Fuel Consumption City (L/100 km) but found: Fuel Type\n",
      "CSV file: file:///Users/gafnts/Documents/Github/ml-with-spark/ml-with-spark/static/CO2_Emissions_Canada.csv\n",
      "25/10/14 18:32:02 WARN InstanceBuilder: Failed to load implementation from:dev.ludovic.netlib.blas.JNIBLAS\n"
     ]
    }
   ],
   "source": [
    "from pyspark.ml.classification import MultilayerPerceptronClassifier\n",
    "\n",
    "mlp = MultilayerPerceptronClassifier(layers=[50,20, 8, 70], seed=123, featuresCol=\"selectedFeatures\", labelCol=\"CO2\")\n",
    "mlp.setMaxIter(100)\n",
    "\n",
    "\n",
    "model = mlp.fit(output)"
   ]
  },
  {
   "cell_type": "code",
   "execution_count": null,
   "id": "serial-library",
   "metadata": {},
   "outputs": [],
   "source": []
  }
 ],
 "metadata": {
  "kernelspec": {
   "display_name": "ml-with-spark-py3.12",
   "language": "python",
   "name": "python3"
  },
  "language_info": {
   "codemirror_mode": {
    "name": "ipython",
    "version": 3
   },
   "file_extension": ".py",
   "mimetype": "text/x-python",
   "name": "python",
   "nbconvert_exporter": "python",
   "pygments_lexer": "ipython3",
   "version": "3.12.9"
  }
 },
 "nbformat": 4,
 "nbformat_minor": 5
}
